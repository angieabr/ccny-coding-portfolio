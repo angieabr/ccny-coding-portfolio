{
  "nbformat": 4,
  "nbformat_minor": 0,
  "metadata": {
    "colab": {
      "provenance": []
    },
    "kernelspec": {
      "name": "python3",
      "display_name": "Python 3"
    },
    "language_info": {
      "name": "python"
    }
  },
  "cells": [
    {
      "cell_type": "markdown",
      "source": [
        "## Reflection - Activity 1\n",
        "I believe this reflection portion is many times more difficult than the coding itself, as I am unsure of what to write about. The process itself was quite straighforward, and I used various resources to check different ways of accomplishing the sames tasks. The introduction of f-strings was interesting, as I haven't heard of them before. I liked the addition of imputing a code that results in an error, as it's another way to explain how something works, by showing how it *can't* be done."
      ],
      "metadata": {
        "id": "rWlA1ovT2_9_"
      }
    }
  ]
}